{
 "cells": [
  {
   "cell_type": "markdown",
   "metadata": {},
   "source": [
    "## Homework 1:\n",
    "\n",
    "1- Build a Keras Model for linear regression (check: https://keras.io/activations/). Use Boston Housing Dataset to train and test your model\n",
    "\n",
    "2- Build a Keras Model for logistic regression. Use diabetes.csv to train and test\n",
    "\n",
    "Comments:\n",
    "\n",
    "1- Build the **simplest model** for linear regression with Keras and compare your model performance with `from sklearn.linear_model import LinearRegression`\n",
    "\n",
    "2- Build the **simplest model** for logistic regression with Keras and compare your model performance with `from sklearn.linear_model import LogisticRegression`\n",
    "\n",
    "3- **Add more complexity to your models in (1) and (2)** and compare with previous results"
   ]
  },
  {
   "cell_type": "code",
   "execution_count": 1,
   "metadata": {},
   "outputs": [
    {
     "name": "stdout",
     "output_type": "stream",
     "text": [
      "(506, 13)\n"
     ]
    }
   ],
   "source": [
    "from sklearn.datasets import load_boston\n",
    "\n",
    "boston = load_boston()\n",
    "print(boston.data.shape)"
   ]
  },
  {
   "cell_type": "markdown",
   "metadata": {},
   "source": [
    "### Keras Model for Linear Regression on Boston Data Set"
   ]
  },
  {
   "cell_type": "code",
   "execution_count": 86,
   "metadata": {},
   "outputs": [],
   "source": [
    "import numpy as np\n",
    "import pandas as pd\n",
    "import seaborn as sns\n",
    "import matplotlib.pyplot as plt\n",
    "from tensorflow.keras.models import Sequential\n",
    "from tensorflow.keras.layers import Dense, Activation\n",
    "from sklearn.model_selection import train_test_split\n",
    "from sklearn.preprocessing import StandardScaler\n",
    "\n",
    "X, y = boston.data, boston.target\n",
    "\n",
    "\n",
    "sc = StandardScaler()\n",
    "X = sc.fit_transform(X)\n",
    "y = y.reshape(-1,1)\n",
    "y =sc.fit_transform(y)\n",
    "\n",
    "X_train, X_test, y_train, y_test = train_test_split(X, y, test_size=0.3, random_state=0)\n",
    "\n",
    "def build_regressor():\n",
    "    model = Sequential()\n",
    "    model.add(Dense(13, input_dim=13, activation='relu'))\n",
    "    model.add(Dense(1, activation='linear'))\n",
    "    model.compile(optimizer='adam', loss='mse', metrics=['mse'])\n",
    "    return model"
   ]
  },
  {
   "cell_type": "code",
   "execution_count": 87,
   "metadata": {},
   "outputs": [
    {
     "name": "stdout",
     "output_type": "stream",
     "text": [
      "Train on 354 samples\n",
      "Epoch 1/100\n",
      "354/354 [==============================] - 1s 2ms/sample - loss: 1.1612 - mse: 1.1612\n",
      "Epoch 2/100\n",
      "354/354 [==============================] - 0s 68us/sample - loss: 0.9596 - mse: 0.9596\n",
      "Epoch 3/100\n",
      "354/354 [==============================] - 0s 81us/sample - loss: 0.8384 - mse: 0.8384\n",
      "Epoch 4/100\n",
      "354/354 [==============================] - 0s 72us/sample - loss: 0.7564 - mse: 0.7564\n",
      "Epoch 5/100\n",
      "354/354 [==============================] - 0s 72us/sample - loss: 0.6996 - mse: 0.6996\n",
      "Epoch 6/100\n",
      "354/354 [==============================] - 0s 68us/sample - loss: 0.6578 - mse: 0.6578\n",
      "Epoch 7/100\n",
      "354/354 [==============================] - 0s 80us/sample - loss: 0.6236 - mse: 0.6236\n",
      "Epoch 8/100\n",
      "354/354 [==============================] - 0s 69us/sample - loss: 0.5877 - mse: 0.5877\n",
      "Epoch 9/100\n",
      "354/354 [==============================] - 0s 63us/sample - loss: 0.5561 - mse: 0.5561\n",
      "Epoch 10/100\n",
      "354/354 [==============================] - 0s 91us/sample - loss: 0.5255 - mse: 0.5255\n",
      "Epoch 11/100\n",
      "354/354 [==============================] - 0s 71us/sample - loss: 0.4993 - mse: 0.4993\n",
      "Epoch 12/100\n",
      "354/354 [==============================] - 0s 73us/sample - loss: 0.4772 - mse: 0.4772\n",
      "Epoch 13/100\n",
      "354/354 [==============================] - 0s 67us/sample - loss: 0.4534 - mse: 0.4534\n",
      "Epoch 14/100\n",
      "354/354 [==============================] - 0s 68us/sample - loss: 0.4334 - mse: 0.4334\n",
      "Epoch 15/100\n",
      "354/354 [==============================] - 0s 89us/sample - loss: 0.4131 - mse: 0.4131\n",
      "Epoch 16/100\n",
      "354/354 [==============================] - 0s 86us/sample - loss: 0.3955 - mse: 0.3955\n",
      "Epoch 17/100\n",
      "354/354 [==============================] - 0s 81us/sample - loss: 0.3781 - mse: 0.3781\n",
      "Epoch 18/100\n",
      "354/354 [==============================] - 0s 67us/sample - loss: 0.3640 - mse: 0.3640\n",
      "Epoch 19/100\n",
      "354/354 [==============================] - 0s 94us/sample - loss: 0.3488 - mse: 0.3488\n",
      "Epoch 20/100\n",
      "354/354 [==============================] - 0s 93us/sample - loss: 0.3353 - mse: 0.3353\n",
      "Epoch 21/100\n",
      "354/354 [==============================] - 0s 79us/sample - loss: 0.3250 - mse: 0.3250\n",
      "Epoch 22/100\n",
      "354/354 [==============================] - 0s 73us/sample - loss: 0.3159 - mse: 0.3159\n",
      "Epoch 23/100\n",
      "354/354 [==============================] - 0s 67us/sample - loss: 0.3061 - mse: 0.3061\n",
      "Epoch 24/100\n",
      "354/354 [==============================] - 0s 102us/sample - loss: 0.2961 - mse: 0.2961\n",
      "Epoch 25/100\n",
      "354/354 [==============================] - 0s 98us/sample - loss: 0.2884 - mse: 0.2884\n",
      "Epoch 26/100\n",
      "354/354 [==============================] - 0s 102us/sample - loss: 0.2790 - mse: 0.2790\n",
      "Epoch 27/100\n",
      "354/354 [==============================] - 0s 70us/sample - loss: 0.2725 - mse: 0.2725\n",
      "Epoch 28/100\n",
      "354/354 [==============================] - 0s 92us/sample - loss: 0.2642 - mse: 0.2642\n",
      "Epoch 29/100\n",
      "354/354 [==============================] - 0s 91us/sample - loss: 0.2577 - mse: 0.2577\n",
      "Epoch 30/100\n",
      "354/354 [==============================] - 0s 74us/sample - loss: 0.2504 - mse: 0.2504\n",
      "Epoch 31/100\n",
      "354/354 [==============================] - 0s 77us/sample - loss: 0.2442 - mse: 0.2442\n",
      "Epoch 32/100\n",
      "354/354 [==============================] - 0s 61us/sample - loss: 0.2394 - mse: 0.2394\n",
      "Epoch 33/100\n",
      "354/354 [==============================] - 0s 70us/sample - loss: 0.2341 - mse: 0.2341\n",
      "Epoch 34/100\n",
      "354/354 [==============================] - 0s 91us/sample - loss: 0.2277 - mse: 0.2277\n",
      "Epoch 35/100\n",
      "354/354 [==============================] - 0s 71us/sample - loss: 0.2230 - mse: 0.2230\n",
      "Epoch 36/100\n",
      "354/354 [==============================] - 0s 74us/sample - loss: 0.2186 - mse: 0.2186\n",
      "Epoch 37/100\n",
      "354/354 [==============================] - 0s 68us/sample - loss: 0.2149 - mse: 0.2149\n",
      "Epoch 38/100\n",
      "354/354 [==============================] - 0s 77us/sample - loss: 0.2111 - mse: 0.2111\n",
      "Epoch 39/100\n",
      "354/354 [==============================] - 0s 61us/sample - loss: 0.2084 - mse: 0.2084\n",
      "Epoch 40/100\n",
      "354/354 [==============================] - 0s 91us/sample - loss: 0.2045 - mse: 0.2045\n",
      "Epoch 41/100\n",
      "354/354 [==============================] - 0s 100us/sample - loss: 0.2016 - mse: 0.2016\n",
      "Epoch 42/100\n",
      "354/354 [==============================] - 0s 73us/sample - loss: 0.1985 - mse: 0.1985\n",
      "Epoch 43/100\n",
      "354/354 [==============================] - 0s 88us/sample - loss: 0.1961 - mse: 0.1961\n",
      "Epoch 44/100\n",
      "354/354 [==============================] - 0s 71us/sample - loss: 0.1942 - mse: 0.1942\n",
      "Epoch 45/100\n",
      "354/354 [==============================] - 0s 84us/sample - loss: 0.1914 - mse: 0.1914\n",
      "Epoch 46/100\n",
      "354/354 [==============================] - 0s 73us/sample - loss: 0.1879 - mse: 0.1879\n",
      "Epoch 47/100\n",
      "354/354 [==============================] - 0s 74us/sample - loss: 0.1853 - mse: 0.1854\n",
      "Epoch 48/100\n",
      "354/354 [==============================] - 0s 69us/sample - loss: 0.1836 - mse: 0.1836\n",
      "Epoch 49/100\n",
      "354/354 [==============================] - 0s 79us/sample - loss: 0.1816 - mse: 0.1816\n",
      "Epoch 50/100\n",
      "354/354 [==============================] - 0s 82us/sample - loss: 0.1797 - mse: 0.1797\n",
      "Epoch 51/100\n",
      "354/354 [==============================] - 0s 68us/sample - loss: 0.1773 - mse: 0.1773\n",
      "Epoch 52/100\n",
      "354/354 [==============================] - 0s 78us/sample - loss: 0.1755 - mse: 0.1755\n",
      "Epoch 53/100\n",
      "354/354 [==============================] - 0s 71us/sample - loss: 0.1742 - mse: 0.1742\n",
      "Epoch 54/100\n",
      "354/354 [==============================] - 0s 60us/sample - loss: 0.1722 - mse: 0.1722\n",
      "Epoch 55/100\n",
      "354/354 [==============================] - 0s 56us/sample - loss: 0.1705 - mse: 0.1705\n",
      "Epoch 56/100\n",
      "354/354 [==============================] - 0s 54us/sample - loss: 0.1689 - mse: 0.1689\n",
      "Epoch 57/100\n",
      "354/354 [==============================] - 0s 51us/sample - loss: 0.1674 - mse: 0.1674\n",
      "Epoch 58/100\n",
      "354/354 [==============================] - 0s 53us/sample - loss: 0.1651 - mse: 0.1651\n",
      "Epoch 59/100\n",
      "354/354 [==============================] - 0s 55us/sample - loss: 0.1656 - mse: 0.1656\n",
      "Epoch 60/100\n",
      "354/354 [==============================] - 0s 53us/sample - loss: 0.1626 - mse: 0.1626\n",
      "Epoch 61/100\n",
      "354/354 [==============================] - 0s 52us/sample - loss: 0.1611 - mse: 0.1611\n",
      "Epoch 62/100\n",
      "354/354 [==============================] - 0s 54us/sample - loss: 0.1598 - mse: 0.1598\n",
      "Epoch 63/100\n",
      "354/354 [==============================] - 0s 59us/sample - loss: 0.1583 - mse: 0.1583\n",
      "Epoch 64/100\n",
      "354/354 [==============================] - 0s 53us/sample - loss: 0.1570 - mse: 0.1570\n",
      "Epoch 65/100\n",
      "354/354 [==============================] - 0s 52us/sample - loss: 0.1562 - mse: 0.1562\n",
      "Epoch 66/100\n",
      "354/354 [==============================] - 0s 56us/sample - loss: 0.1556 - mse: 0.1556\n",
      "Epoch 67/100\n",
      "354/354 [==============================] - 0s 49us/sample - loss: 0.1560 - mse: 0.1560\n",
      "Epoch 68/100\n",
      "354/354 [==============================] - 0s 53us/sample - loss: 0.1534 - mse: 0.1534\n",
      "Epoch 69/100\n",
      "354/354 [==============================] - 0s 53us/sample - loss: 0.1522 - mse: 0.1522\n",
      "Epoch 70/100\n",
      "354/354 [==============================] - 0s 56us/sample - loss: 0.1519 - mse: 0.1519\n",
      "Epoch 71/100\n",
      "354/354 [==============================] - 0s 56us/sample - loss: 0.1510 - mse: 0.1510\n",
      "Epoch 72/100\n",
      "354/354 [==============================] - 0s 49us/sample - loss: 0.1499 - mse: 0.1499\n",
      "Epoch 73/100\n",
      "354/354 [==============================] - 0s 51us/sample - loss: 0.1485 - mse: 0.1485\n",
      "Epoch 74/100\n",
      "354/354 [==============================] - 0s 46us/sample - loss: 0.1496 - mse: 0.1496\n",
      "Epoch 75/100\n",
      "354/354 [==============================] - 0s 55us/sample - loss: 0.1484 - mse: 0.1484\n",
      "Epoch 76/100\n",
      "354/354 [==============================] - 0s 52us/sample - loss: 0.1479 - mse: 0.1479\n",
      "Epoch 77/100\n",
      "354/354 [==============================] - 0s 54us/sample - loss: 0.1467 - mse: 0.1467\n",
      "Epoch 78/100\n",
      "354/354 [==============================] - 0s 52us/sample - loss: 0.1458 - mse: 0.1458\n",
      "Epoch 79/100\n",
      "354/354 [==============================] - 0s 52us/sample - loss: 0.1454 - mse: 0.1454\n",
      "Epoch 80/100\n",
      "354/354 [==============================] - 0s 54us/sample - loss: 0.1445 - mse: 0.1445\n",
      "Epoch 81/100\n",
      "354/354 [==============================] - 0s 53us/sample - loss: 0.1432 - mse: 0.1432\n",
      "Epoch 82/100\n"
     ]
    },
    {
     "name": "stdout",
     "output_type": "stream",
     "text": [
      "354/354 [==============================] - 0s 51us/sample - loss: 0.1437 - mse: 0.1437\n",
      "Epoch 83/100\n",
      "354/354 [==============================] - 0s 45us/sample - loss: 0.1430 - mse: 0.1430\n",
      "Epoch 84/100\n",
      "354/354 [==============================] - 0s 49us/sample - loss: 0.1417 - mse: 0.1417\n",
      "Epoch 85/100\n",
      "354/354 [==============================] - 0s 44us/sample - loss: 0.1418 - mse: 0.1418\n",
      "Epoch 86/100\n",
      "354/354 [==============================] - 0s 48us/sample - loss: 0.1398 - mse: 0.1398\n",
      "Epoch 87/100\n",
      "354/354 [==============================] - 0s 46us/sample - loss: 0.1423 - mse: 0.1423\n",
      "Epoch 88/100\n",
      "354/354 [==============================] - 0s 45us/sample - loss: 0.1421 - mse: 0.1421\n",
      "Epoch 89/100\n",
      "354/354 [==============================] - 0s 46us/sample - loss: 0.1384 - mse: 0.1384\n",
      "Epoch 90/100\n",
      "354/354 [==============================] - 0s 46us/sample - loss: 0.1375 - mse: 0.1375\n",
      "Epoch 91/100\n",
      "354/354 [==============================] - 0s 45us/sample - loss: 0.1369 - mse: 0.1369\n",
      "Epoch 92/100\n",
      "354/354 [==============================] - 0s 45us/sample - loss: 0.1368 - mse: 0.1368\n",
      "Epoch 93/100\n",
      "354/354 [==============================] - 0s 46us/sample - loss: 0.1351 - mse: 0.1351\n",
      "Epoch 94/100\n",
      "354/354 [==============================] - 0s 44us/sample - loss: 0.1342 - mse: 0.1342\n",
      "Epoch 95/100\n",
      "354/354 [==============================] - 0s 46us/sample - loss: 0.1341 - mse: 0.1341\n",
      "Epoch 96/100\n",
      "354/354 [==============================] - 0s 46us/sample - loss: 0.1333 - mse: 0.1333\n",
      "Epoch 97/100\n",
      "354/354 [==============================] - 0s 46us/sample - loss: 0.1323 - mse: 0.1323\n",
      "Epoch 98/100\n",
      "354/354 [==============================] - 0s 45us/sample - loss: 0.1321 - mse: 0.1321\n",
      "Epoch 99/100\n",
      "354/354 [==============================] - 0s 44us/sample - loss: 0.1315 - mse: 0.1315\n",
      "Epoch 100/100\n",
      "354/354 [==============================] - 0s 44us/sample - loss: 0.1312 - mse: 0.1312\n"
     ]
    },
    {
     "data": {
      "text/plain": [
       "<tensorflow.python.keras.callbacks.History at 0x7fcfae016b10>"
      ]
     },
     "execution_count": 87,
     "metadata": {},
     "output_type": "execute_result"
    }
   ],
   "source": [
    "regressor = build_regressor()\n",
    "regressor.fit(X_train, y_train, epochs=100, batch_size=32)"
   ]
  },
  {
   "cell_type": "code",
   "execution_count": 88,
   "metadata": {},
   "outputs": [
    {
     "name": "stdout",
     "output_type": "stream",
     "text": [
      "Mean Squared Error = 0.24\n"
     ]
    }
   ],
   "source": [
    "loss, mse = regressor.evaluate(X_test, y_test, verbose=0)\n",
    "print(\"Mean Squared Error = {:.2f}\".format(mse))"
   ]
  },
  {
   "cell_type": "code",
   "execution_count": 89,
   "metadata": {},
   "outputs": [
    {
     "name": "stdout",
     "output_type": "stream",
     "text": [
      "[[ 2.1265762e-01]\n",
      " [ 6.2039864e-01]\n",
      " [ 3.6224961e-01]\n",
      " [-9.5634943e-01]\n",
      " [-3.5954839e-01]\n",
      " [-5.4970199e-01]\n",
      " [ 5.8315188e-02]\n",
      " [-2.0106508e-01]\n",
      " [-3.7416309e-01]\n",
      " [-8.9126545e-01]\n",
      " [-1.7087495e+00]\n",
      " [-1.1343321e+00]\n",
      " [-8.8487679e-01]\n",
      " [-1.4936665e+00]\n",
      " [ 2.0909977e+00]\n",
      " [ 1.1538233e+00]\n",
      " [ 2.4942093e-01]\n",
      " [ 1.5968345e+00]\n",
      " [ 9.4940645e-01]\n",
      " [-1.7787765e-01]\n",
      " [ 3.1317577e-02]\n",
      " [-1.1463572e-01]\n",
      " [-3.2732731e-01]\n",
      " [ 4.7270197e-01]\n",
      " [-2.9751474e-01]\n",
      " [ 3.7137246e-01]\n",
      " [-6.3476992e-01]\n",
      " [-5.9839576e-01]\n",
      " [ 2.1754825e+00]\n",
      " [-3.1133068e-01]\n",
      " [-6.7258042e-01]\n",
      " [-5.5786526e-01]\n",
      " [-6.5279812e-01]\n",
      " [-2.4120815e-01]\n",
      " [ 4.4436777e-01]\n",
      " [-8.1404224e-02]\n",
      " [-1.7908654e+00]\n",
      " [ 1.1742916e+00]\n",
      " [-6.4688164e-01]\n",
      " [-8.9782149e-01]\n",
      " [ 1.5171854e-01]\n",
      " [-1.0978533e-01]\n",
      " [-1.8642052e-01]\n",
      " [-4.4393682e-01]\n",
      " [-4.9567834e-02]\n",
      " [ 1.9451827e-03]\n",
      " [-6.2261552e-01]\n",
      " [-2.9577905e-01]\n",
      " [-7.0419902e-01]\n",
      " [-6.2375262e-02]\n",
      " [-9.2423898e-01]\n",
      " [-4.4906145e-01]\n",
      " [-1.8146738e-02]\n",
      " [ 2.1286886e+00]\n",
      " [-9.5831698e-01]\n",
      " [-3.0312818e-01]\n",
      " [-5.5968070e-01]\n",
      " [-5.4415107e-01]\n",
      " [-4.8913985e-01]\n",
      " [-4.0450352e-01]\n",
      " [-4.4229817e-01]\n",
      " [-1.5030499e-01]\n",
      " [ 1.3043127e+00]\n",
      " [ 1.0418497e+00]\n",
      " [-2.6968879e-01]\n",
      " [ 7.7998239e-01]\n",
      " [-7.5135088e-01]\n",
      " [-4.5381987e-01]\n",
      " [-9.0803915e-01]\n",
      " [-5.4406241e-02]\n",
      " [-3.3015853e-01]\n",
      " [-1.6757844e-01]\n",
      " [ 5.1687464e-02]\n",
      " [ 6.4208972e-01]\n",
      " [ 6.5205216e-01]\n",
      " [-1.7510279e+00]\n",
      " [ 2.0245364e+00]\n",
      " [ 4.0227696e-02]\n",
      " [ 3.9845210e-01]\n",
      " [-4.6271390e-01]\n",
      " [ 2.5900209e-01]\n",
      " [-3.9567894e-01]\n",
      " [ 1.2483175e-01]\n",
      " [ 2.1341901e+00]\n",
      " [ 2.2798829e+00]\n",
      " [-3.7938789e-02]\n",
      " [ 1.5445785e-01]\n",
      " [-5.1515871e-01]\n",
      " [ 2.8556305e-01]\n",
      " [-8.2034582e-01]\n",
      " [-3.8449031e-01]\n",
      " [-1.4451050e+00]\n",
      " [-4.0897512e-01]\n",
      " [ 6.5453923e-01]\n",
      " [-3.9195329e-01]\n",
      " [-2.0375706e-01]\n",
      " [-1.4018949e+00]\n",
      " [-7.9351217e-03]\n",
      " [-9.2972547e-01]\n",
      " [-4.7750479e-01]\n",
      " [ 3.0104971e-01]\n",
      " [-3.8053375e-01]\n",
      " [ 5.4698175e-01]\n",
      " [-1.5178569e-01]\n",
      " [ 6.6827339e-01]\n",
      " [-3.3241886e-01]\n",
      " [-1.3256426e+00]\n",
      " [ 1.3977960e-02]\n",
      " [-3.1848699e-01]\n",
      " [ 3.1088841e-01]\n",
      " [ 1.5665234e+00]\n",
      " [-8.0307418e-01]\n",
      " [-4.5212579e-01]\n",
      " [-4.3969953e-01]\n",
      " [-7.5329620e-01]\n",
      " [-3.1374139e-01]\n",
      " [-1.8148578e+00]\n",
      " [-2.8400463e-01]\n",
      " [-1.0811721e+00]\n",
      " [ 2.9286160e+00]\n",
      " [ 6.4090019e-01]\n",
      " [-1.0979959e+00]\n",
      " [-3.9275670e-01]\n",
      " [-3.1612498e-01]\n",
      " [-1.7218868e-01]\n",
      " [-2.0059274e-01]\n",
      " [ 1.4980593e+00]\n",
      " [-7.6400357e-01]\n",
      " [-2.7890909e-01]\n",
      " [ 1.4952507e+00]\n",
      " [-6.3969177e-01]\n",
      " [-1.4373205e+00]\n",
      " [-7.0089525e-01]\n",
      " [-3.4461665e-01]\n",
      " [-1.3833169e+00]\n",
      " [ 1.6264269e+00]\n",
      " [ 8.1518009e-02]\n",
      " [-1.0302196e+00]\n",
      " [ 5.5176079e-01]\n",
      " [-1.8224711e+00]\n",
      " [-1.4225001e+00]\n",
      " [-1.7175652e-01]\n",
      " [ 1.2694384e+00]\n",
      " [ 1.8977426e-01]\n",
      " [ 1.5572171e-01]\n",
      " [-8.1492716e-01]\n",
      " [ 1.2294055e+00]\n",
      " [ 5.3587103e-01]\n",
      " [-9.8977333e-01]\n",
      " [-1.6162168e+00]\n",
      " [ 4.3538189e-01]\n",
      " [ 1.8778011e-02]]\n"
     ]
    }
   ],
   "source": [
    "y_pred = model.predict(X_test)\n",
    "print(y_pred)"
   ]
  },
  {
   "cell_type": "code",
   "execution_count": 90,
   "metadata": {},
   "outputs": [
    {
     "name": "stdout",
     "output_type": "stream",
     "text": [
      "[[ 0.00731319]\n",
      " [ 2.98946007]\n",
      " [ 0.05084818]\n",
      " [-1.54906274]\n",
      " [-0.14505928]\n",
      " [-0.286548  ]\n",
      " [-0.21036176]\n",
      " [-0.41715297]\n",
      " [-0.70013041]\n",
      " [-0.42803672]\n",
      " [-1.494644  ]\n",
      " [-0.58040919]\n",
      " [-0.83073539]\n",
      " [-1.30962029]\n",
      " [ 2.98946007]\n",
      " [ 0.70387305]\n",
      " [ 0.05084818]\n",
      " [ 1.1718742 ]\n",
      " [ 0.74740804]\n",
      " [-0.16682677]\n",
      " [ 0.13791816]\n",
      " [-0.37361798]\n",
      " [-0.23212926]\n",
      " [ 0.71475679]\n",
      " [-0.35185049]\n",
      " [ 0.06173193]\n",
      " [-0.31919924]\n",
      " [-0.34096674]\n",
      " [ 1.75959658]\n",
      " [-0.41715297]\n",
      " [-0.86338663]\n",
      " [-0.27566425]\n",
      " [-0.22124551]\n",
      " [-0.2647805 ]\n",
      " [ 0.11615067]\n",
      " [-0.62394418]\n",
      " [-1.84292393]\n",
      " [ 2.98946007]\n",
      " [-0.87427038]\n",
      " [-1.00487535]\n",
      " [ 0.14880191]\n",
      " [-0.27566425]\n",
      " [-0.29743175]\n",
      " [-0.95045661]\n",
      " [-0.65659542]\n",
      " [-0.10152429]\n",
      " [-0.24301301]\n",
      " [-0.60217668]\n",
      " [-1.16813157]\n",
      " [ 0.54061683]\n",
      " [-0.75454915]\n",
      " [ 0.06173193]\n",
      " [ 0.1923369 ]\n",
      " [ 2.20583024]\n",
      " [-0.75454915]\n",
      " [-0.09064054]\n",
      " [-0.59129294]\n",
      " [-0.58040919]\n",
      " [-0.81985164]\n",
      " [-0.09064054]\n",
      " [-0.42803672]\n",
      " [-0.16682677]\n",
      " [ 1.1501067 ]\n",
      " [ 0.97596674]\n",
      " [-0.2647805 ]\n",
      " [ 0.79094303]\n",
      " [-0.79808414]\n",
      " [-0.81985164]\n",
      " [ 0.54061683]\n",
      " [ 0.00731319]\n",
      " [-0.27566425]\n",
      " [-0.12329178]\n",
      " [ 0.10526692]\n",
      " [ 0.9433155 ]\n",
      " [ 0.12703442]\n",
      " [-1.64701647]\n",
      " [ 2.80443636]\n",
      " [ 0.20322065]\n",
      " [ 0.00731319]\n",
      " [-0.46068796]\n",
      " [ 0.08349942]\n",
      " [-0.59129294]\n",
      " [ 0.58415182]\n",
      " [ 2.42350519]\n",
      " [ 2.98946007]\n",
      " [ 0.05084818]\n",
      " [-0.12329178]\n",
      " [-1.34227153]\n",
      " [ 0.08349942]\n",
      " [ 0.07261568]\n",
      " [-0.39538548]\n",
      " [-0.9939916 ]\n",
      " [-0.06887304]\n",
      " [ 0.24675564]\n",
      " [-1.15724782]\n",
      " [ 0.1923369 ]\n",
      " [-0.95045661]\n",
      " [ 0.23587189]\n",
      " [-0.91780537]\n",
      " [-0.41715297]\n",
      " [ 0.60591932]\n",
      " [-0.29743175]\n",
      " [ 0.45354685]\n",
      " [-0.09064054]\n",
      " [-0.0579893 ]\n",
      " [ 0.03996443]\n",
      " [-1.32050404]\n",
      " [-0.06887304]\n",
      " [-0.21036176]\n",
      " [ 0.4208956 ]\n",
      " [ 2.04257402]\n",
      " [-0.58040919]\n",
      " [ 0.49708184]\n",
      " [-0.23212926]\n",
      " [-0.65659542]\n",
      " [ 0.20322065]\n",
      " [-1.53817899]\n",
      " [ 0.05084818]\n",
      " [-1.39669027]\n",
      " [ 2.98946007]\n",
      " [ 0.86712926]\n",
      " [-1.11371283]\n",
      " [-0.34096674]\n",
      " [-0.14505928]\n",
      " [-0.24301301]\n",
      " [-0.40626922]\n",
      " [ 1.18275795]\n",
      " [-0.43892047]\n",
      " [-0.31919924]\n",
      " [ 1.16099045]\n",
      " [-1.02664285]\n",
      " [-1.63613272]\n",
      " [-0.97222411]\n",
      " [-0.55864169]\n",
      " [-1.53817899]\n",
      " [ 1.4004329 ]\n",
      " [ 0.15968566]\n",
      " [-0.9939916 ]\n",
      " [ 0.39912811]\n",
      " [-1.66878396]\n",
      " [-1.02664285]\n",
      " [ 0.2141044 ]\n",
      " [ 1.59634036]\n",
      " [ 0.26852314]\n",
      " [ 0.17056941]\n",
      " [-0.64571167]\n",
      " [ 1.12833921]\n",
      " [ 1.48750288]\n",
      " [-1.25520155]\n",
      " [-1.66878396]\n",
      " [ 0.02908069]\n",
      " [ 0.6712218 ]]\n"
     ]
    }
   ],
   "source": [
    "print(y_test)"
   ]
  },
  {
   "cell_type": "code",
   "execution_count": 91,
   "metadata": {},
   "outputs": [
    {
     "name": "stdout",
     "output_type": "stream",
     "text": [
      "(152, 1)\n",
      "(152, 1)\n"
     ]
    }
   ],
   "source": [
    "print(y_pred.shape)\n",
    "print(y_test.shape)"
   ]
  },
  {
   "cell_type": "code",
   "execution_count": 92,
   "metadata": {},
   "outputs": [
    {
     "data": {
      "image/png": "[encoded data removed]",
      "text/plain": [
       "<Figure size 432x288 with 1 Axes>"
      ]
     },
     "metadata": {
      "needs_background": "light"
     },
     "output_type": "display_data"
    }
   ],
   "source": [
    "fig, ax = plt.subplots()\n",
    "ax.scatter(y_test, y_pred)\n",
    "ax.plot([y_test.min(), y_test.max()], [y_test.min(), y_test.max()], 'k--', lw=4)\n",
    "ax.set_xlabel('Measured')\n",
    "ax.set_ylabel('Predicted')\n",
    "plt.show()"
   ]
  },
  {
   "cell_type": "markdown",
   "metadata": {},
   "source": [
    "### SKLearn LinearRegression model for Boston dataset"
   ]
  },
  {
   "cell_type": "code",
   "execution_count": 93,
   "metadata": {},
   "outputs": [],
   "source": [
    "from sklearn.linear_model import LinearRegression\n",
    "\n",
    "lr = LinearRegression()\n",
    "lr.fit(X_train, y_train)\n",
    "       \n",
    "lr_pred = lr.predict(X_test)"
   ]
  },
  {
   "cell_type": "code",
   "execution_count": 94,
   "metadata": {},
   "outputs": [
    {
     "data": {
      "image/png": "[encoded data removed]",
      "text/plain": [
       "<Figure size 432x288 with 1 Axes>"
      ]
     },
     "metadata": {
      "needs_background": "light"
     },
     "output_type": "display_data"
    }
   ],
   "source": [
    "fig, ax = plt.subplots()\n",
    "ax.scatter(y_test, lr_pred)\n",
    "ax.plot([y_test.min(), y_test.max()], [y_test.min(), y_test.max()], 'k--', lw=4)\n",
    "ax.set_xlabel('Measured')\n",
    "ax.set_ylabel('Predicted')\n",
    "plt.show()"
   ]
  },
  {
   "cell_type": "code",
   "execution_count": 96,
   "metadata": {},
   "outputs": [
    {
     "name": "stdout",
     "output_type": "stream",
     "text": [
      "Mean Squared Error = 0.6733825506400195\n"
     ]
    }
   ],
   "source": [
    "lr_score = lr.score(X_test, y_test)\n",
    "print(f'Mean Squared Error = {lr_score}')"
   ]
  },
  {
   "cell_type": "markdown",
   "metadata": {},
   "source": [
    "### Comparison"
   ]
  },
  {
   "cell_type": "code",
   "execution_count": 98,
   "metadata": {},
   "outputs": [
    {
     "name": "stdout",
     "output_type": "stream",
     "text": [
      "Keras MLP Mean Squared Error = 0.24\n",
      "SKLearn LinearRegression Mean Squared Error = 0.6733825506400195\n"
     ]
    }
   ],
   "source": [
    "print(\"Keras MLP Mean Squared Error = {:.2f}\".format(mse))\n",
    "print(f'SKLearn LinearRegression Mean Squared Error = {lr_score}')"
   ]
  },
  {
   "cell_type": "markdown",
   "metadata": {},
   "source": [
    "### Keras Model for Logistic Regression on Diabetes dataset"
   ]
  },
  {
   "cell_type": "code",
   "execution_count": 128,
   "metadata": {},
   "outputs": [
    {
     "data": {
      "text/plain": [
       "(576, 8)"
      ]
     },
     "execution_count": 128,
     "metadata": {},
     "output_type": "execute_result"
    }
   ],
   "source": [
    "from keras.utils import np_utils\n",
    "from sklearn.preprocessing import LabelEncoder\n",
    "from tensorflow.keras import utils\n",
    "\n",
    "df = pd.read_csv('../datasets/diabetes.csv')\n",
    "\n",
    "# X is a matrix,access the features we want in feature_cols\n",
    "X = df.iloc[:,0:8].copy()\n",
    "scd = StandardScaler()\n",
    "X = scd.fit_transform(X)\n",
    "\n",
    "# y is a vector, hence we use dot to access 'label'\n",
    "y = df['Outcome'].values\n",
    "\n",
    "# split X and y into training and testing sets\n",
    "X_train, X_test, y_train, y_test = train_test_split(X, y, test_size=0.25, random_state=0)\n",
    "\n",
    "y_train_one_hot = utils.to_categorical(y_train)\n",
    "y_test_one_hot = utils.to_categorical(y_test)\n",
    "\n",
    "X_train.shape"
   ]
  },
  {
   "cell_type": "code",
   "execution_count": 130,
   "metadata": {},
   "outputs": [
    {
     "data": {
      "text/plain": [
       "array([[1., 0.],\n",
       "       [1., 0.],\n",
       "       [1., 0.],\n",
       "       ...,\n",
       "       [1., 0.],\n",
       "       [1., 0.],\n",
       "       [1., 0.]], dtype=float32)"
      ]
     },
     "execution_count": 130,
     "metadata": {},
     "output_type": "execute_result"
    }
   ],
   "source": [
    "y_train_one_hot"
   ]
  },
  {
   "cell_type": "code",
   "execution_count": 139,
   "metadata": {},
   "outputs": [
    {
     "name": "stdout",
     "output_type": "stream",
     "text": [
      "Accuracy = 0.80\n"
     ]
    }
   ],
   "source": [
    "# Going to try a functional model this time\n",
    "\n",
    "from tensorflow.keras.layers import Input, Dense\n",
    "from tensorflow.keras.models import Model\n",
    "\n",
    "inp = Input(shape=(8,))\n",
    "out = Dense(2, activation='softmax')(inp)\n",
    "klog = Model(inputs=inp, outputs= out)\n",
    "klog.compile(optimizer='adam', loss='categorical_crossentropy', metrics=[\"accuracy\"])\n",
    "klog.fit(X_train, y_train_one_hot, epochs=100, batch_size=16, verbose=0);\n",
    "loss, accuracy = klog.evaluate(X_test, y_test_one_hot, verbose=0)\n",
    "print(\"Accuracy = {:.2f}\".format(accuracy))"
   ]
  },
  {
   "cell_type": "markdown",
   "metadata": {},
   "source": [
    "### SKLearn LogisticRegression model for Diabetes dataset"
   ]
  },
  {
   "cell_type": "code",
   "execution_count": 136,
   "metadata": {},
   "outputs": [
    {
     "data": {
      "text/plain": [
       "LogisticRegression(C=1.0, class_weight=None, dual=False, fit_intercept=True,\n",
       "                   intercept_scaling=1, l1_ratio=None, max_iter=100,\n",
       "                   multi_class='warn', n_jobs=None, penalty='l2',\n",
       "                   random_state=None, solver='lbfgs', tol=0.0001, verbose=0,\n",
       "                   warm_start=False)"
      ]
     },
     "execution_count": 136,
     "metadata": {},
     "output_type": "execute_result"
    }
   ],
   "source": [
    "from sklearn.linear_model import LogisticRegression\n",
    "\n",
    "# logreg = LogisticRegression(random_state=0, solver=\"lbfgs\", multi_class=\"multinomial\")\n",
    "logreg = LogisticRegression(solver='lbfgs')\n",
    "# fit model\n",
    "logreg.fit(X_train, y_train)"
   ]
  },
  {
   "cell_type": "code",
   "execution_count": 138,
   "metadata": {},
   "outputs": [
    {
     "name": "stdout",
     "output_type": "stream",
     "text": [
      "Accuracy = 0.80\n"
     ]
    }
   ],
   "source": [
    "y_pred = logreg.predict(X_test)\n",
    "score = logreg.score(X_test, y_test)\n",
    "print(\"Accuracy = {:.2f}\".format(score))"
   ]
  },
  {
   "cell_type": "markdown",
   "metadata": {},
   "source": [
    "### Comparison"
   ]
  },
  {
   "cell_type": "code",
   "execution_count": 140,
   "metadata": {},
   "outputs": [
    {
     "name": "stdout",
     "output_type": "stream",
     "text": [
      "Keras Model Accuracy = 0.80\n",
      "SKLearn Accuracy = 0.80\n"
     ]
    }
   ],
   "source": [
    "print(\"Keras Model Accuracy = {:.2f}\".format(accuracy))\n",
    "print(\"SKLearn Accuracy = {:.2f}\".format(score))"
   ]
  },
  {
   "cell_type": "code",
   "execution_count": null,
   "metadata": {},
   "outputs": [],
   "source": []
  }
 ],
 "metadata": {
  "kernelspec": {
   "display_name": "Python 3",
   "language": "python",
   "name": "python3"
  },
  "language_info": {
   "codemirror_mode": {
    "name": "ipython",
    "version": 3
   },
   "file_extension": ".py",
   "mimetype": "text/x-python",
   "name": "python",
   "nbconvert_exporter": "python",
   "pygments_lexer": "ipython3",
   "version": "3.7.4"
  }
 },
 "nbformat": 4,
 "nbformat_minor": 2
}
