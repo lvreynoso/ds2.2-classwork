{
 "cells": [
  {
   "cell_type": "markdown",
   "metadata": {},
   "source": [
    "## Homework 2\n",
    "\n",
    "- Build and train a MLP Model to classify Mnist dataset\n",
    "\n",
    " 1- MLP Network accepts 1D data. So we should flatten our 2D image, then print the dimension of the result arrays.\n",
    " \n",
    " 2- Normalize data by rescaling them to (0,1) \n",
    " \n",
    " 3- Convert label arrays to 1-hot representation (`keras.utils.to_categorical`)\n",
    " \n",
    " 4- Define Model\n",
    "    * Hidden Layer 1: Fully Conncted + Relu Activition (e.g. 512 Nuerons)\n",
    "    * Hidden Layer 2: Fully Connected + Relu Activition (e.g. 512 Neurons)\n",
    "    * Outout Layer: Fully Connected + Softmax Activition\n",
    " \n",
    " \n",
    "- Build and train a CNN+MLP deep learning model with Keras with followings specs for MNIST dataset:\n",
    "\n",
    "    1. Conv2D(32, kernel_size=(3, 3), activation='relu')\n",
    "    2. Conv2D(64, kernel_size=(3, 3), activation='relu')\n",
    "    3. MaxPooling2D(pool_size=(2, 2))\n",
    "    4. Dense(128, activation='relu')\n",
    "    5. Dense(num_classes, activation='softmax')\n",
    "\n",
    "    Also build another model with BatchNormalization and Dropout.\n",
    "    Compare these two CNN + MLP models performance for test data"
   ]
  },
  {
   "cell_type": "code",
   "execution_count": 26,
   "metadata": {},
   "outputs": [
    {
     "name": "stdout",
     "output_type": "stream",
     "text": [
      "train data dim: (60000, 28, 28)\n",
      "test data dim: (10000, 28, 28)\n",
      "test label dim: (10000,)\n",
      "max of training data: 255\n"
     ]
    }
   ],
   "source": [
    "import numpy as np\n",
    "from tensorflow.keras.datasets import mnist\n",
    "from tensorflow.keras.layers import Dense\n",
    "from tensorflow.keras.models import Sequential\n",
    "from tensorflow.keras import utils\n",
    "from tensorflow.keras.optimizers import SGD\n",
    "\n",
    "(x_train, y_train), (x_test, y_test) = mnist.load_data()\n",
    "\n",
    "print('train data dim:', x_train.shape)\n",
    "print('test data dim:', x_test.shape)\n",
    "print('test label dim:', y_test.shape)\n",
    "\n",
    "print('max of training data:', np.max(x_train))"
   ]
  },
  {
   "cell_type": "markdown",
   "metadata": {},
   "source": [
    "### MLP Model"
   ]
  },
  {
   "cell_type": "code",
   "execution_count": 27,
   "metadata": {},
   "outputs": [],
   "source": [
    "# Reshaping and normalizing data\n",
    "\n",
    "# Max pixel value is 255\n",
    "x_train = np.reshape(x_train, [-1, 28*28])\n",
    "x_test = np.reshape(x_test, [-1, 28*28])\n",
    "x_train = x_train / 255\n",
    "x_test = x_test / 255\n",
    "\n",
    "# Number of classes is 10 (arabic numerals 0 through 9)\n",
    "y_train = utils.to_categorical(y_train, 10)\n",
    "y_test = utils.to_categorical(y_test, 10)"
   ]
  },
  {
   "cell_type": "code",
   "execution_count": 28,
   "metadata": {},
   "outputs": [],
   "source": [
    "# Defining our MLP model\n",
    "\n",
    "model = Sequential()\n",
    "\n",
    "model.add(Dense(512, input_shape=(784,), activation='relu'))\n",
    "model.add(Dense(512, activation='relu'))\n",
    "model.add(Dense(10, activation='softmax'))"
   ]
  },
  {
   "cell_type": "code",
   "execution_count": 29,
   "metadata": {},
   "outputs": [
    {
     "name": "stdout",
     "output_type": "stream",
     "text": [
      "Model: \"sequential_7\"\n",
      "_________________________________________________________________\n",
      "Layer (type)                 Output Shape              Param #   \n",
      "=================================================================\n",
      "dense_12 (Dense)             (None, 512)               401920    \n",
      "_________________________________________________________________\n",
      "dense_13 (Dense)             (None, 512)               262656    \n",
      "_________________________________________________________________\n",
      "dense_14 (Dense)             (None, 10)                5130      \n",
      "=================================================================\n",
      "Total params: 669,706\n",
      "Trainable params: 669,706\n",
      "Non-trainable params: 0\n",
      "_________________________________________________________________\n",
      "None\n"
     ]
    }
   ],
   "source": [
    "# Use Categorical Cross-Entropy as loss function\n",
    "sgd = SGD(lr=0.01)\n",
    "model.compile(loss='categorical_crossentropy',\n",
    "             optimizer=sgd,\n",
    "             metrics=['accuracy'])\n",
    "print(model.summary())"
   ]
  },
  {
   "cell_type": "code",
   "execution_count": 30,
   "metadata": {},
   "outputs": [
    {
     "name": "stdout",
     "output_type": "stream",
     "text": [
      "Train on 60000 samples, validate on 10000 samples\n",
      "Epoch 1/10\n",
      "60000/60000 [==============================] - 8s 136us/sample - loss: 0.5766 - accuracy: 0.8564 - val_loss: 0.2935 - val_accuracy: 0.9187\n",
      "Epoch 2/10\n",
      "60000/60000 [==============================] - 8s 135us/sample - loss: 0.2731 - accuracy: 0.9233 - val_loss: 0.2295 - val_accuracy: 0.9359\n",
      "Epoch 3/10\n",
      "60000/60000 [==============================] - 8s 133us/sample - loss: 0.2210 - accuracy: 0.9374 - val_loss: 0.1982 - val_accuracy: 0.9434\n",
      "Epoch 4/10\n",
      "60000/60000 [==============================] - 8s 133us/sample - loss: 0.1868 - accuracy: 0.9465 - val_loss: 0.1719 - val_accuracy: 0.9506\n",
      "Epoch 5/10\n",
      "60000/60000 [==============================] - 8s 135us/sample - loss: 0.1614 - accuracy: 0.9540 - val_loss: 0.1523 - val_accuracy: 0.9551\n",
      "Epoch 6/10\n",
      "60000/60000 [==============================] - 8s 138us/sample - loss: 0.1420 - accuracy: 0.9602 - val_loss: 0.1353 - val_accuracy: 0.9615\n",
      "Epoch 7/10\n",
      "60000/60000 [==============================] - 8s 140us/sample - loss: 0.1270 - accuracy: 0.9639 - val_loss: 0.1220 - val_accuracy: 0.9653\n",
      "Epoch 8/10\n",
      "60000/60000 [==============================] - 8s 140us/sample - loss: 0.1144 - accuracy: 0.9678 - val_loss: 0.1153 - val_accuracy: 0.9669\n",
      "Epoch 9/10\n",
      "60000/60000 [==============================] - 8s 140us/sample - loss: 0.1042 - accuracy: 0.9707 - val_loss: 0.1082 - val_accuracy: 0.9687\n",
      "Epoch 10/10\n",
      "60000/60000 [==============================] - 8s 141us/sample - loss: 0.0947 - accuracy: 0.9736 - val_loss: 0.1001 - val_accuracy: 0.9701\n"
     ]
    }
   ],
   "source": [
    "# Training the model\n",
    "history = model.fit(x=x_train, y=y_train,\n",
    "                   batch_size = 32,\n",
    "                   epochs = 10,\n",
    "                   verbose = 1,\n",
    "                   validation_data=(x_test, y_test))"
   ]
  },
  {
   "cell_type": "markdown",
   "metadata": {},
   "source": [
    "Not bad! Let's try going DEEPER.\n",
    "\n",
    "### CNN + MLP Deep Learning Model"
   ]
  },
  {
   "cell_type": "code",
   "execution_count": 31,
   "metadata": {},
   "outputs": [
    {
     "name": "stdout",
     "output_type": "stream",
     "text": [
      "Model: \"sequential_8\"\n",
      "_________________________________________________________________\n",
      "Layer (type)                 Output Shape              Param #   \n",
      "=================================================================\n",
      "conv2d_10 (Conv2D)           (None, 26, 26, 32)        320       \n",
      "_________________________________________________________________\n",
      "conv2d_11 (Conv2D)           (None, 24, 24, 64)        18496     \n",
      "_________________________________________________________________\n",
      "max_pooling2d_4 (MaxPooling2 (None, 12, 12, 64)        0         \n",
      "_________________________________________________________________\n",
      "flatten_3 (Flatten)          (None, 9216)              0         \n",
      "_________________________________________________________________\n",
      "dense_15 (Dense)             (None, 128)               1179776   \n",
      "_________________________________________________________________\n",
      "dense_16 (Dense)             (None, 10)                1290      \n",
      "=================================================================\n",
      "Total params: 1,199,882\n",
      "Trainable params: 1,199,882\n",
      "Non-trainable params: 0\n",
      "_________________________________________________________________\n",
      "None\n"
     ]
    }
   ],
   "source": [
    "from tensorflow.keras.layers import Conv2D, MaxPool2D, Flatten\n",
    "from tensorflow.keras.losses import categorical_crossentropy\n",
    "from tensorflow.keras.optimizers import Adadelta\n",
    "\n",
    "# Define the model\n",
    "\n",
    "deep_model = Sequential()\n",
    "deep_model.add(Conv2D(32, kernel_size=(3, 3),\n",
    "                 activation='relu',\n",
    "                 input_shape=(28, 28, 1)))\n",
    "deep_model.add(Conv2D(64, (3, 3), activation='relu'))\n",
    "deep_model.add(MaxPool2D(pool_size=(2, 2)))\n",
    "deep_model.add(Flatten())\n",
    "deep_model.add(Dense(128, activation='relu'))\n",
    "deep_model.add(Dense(10, activation='softmax'))\n",
    "\n",
    "deep_model.compile(loss=categorical_crossentropy,\n",
    "              optimizer=Adadelta(),\n",
    "              metrics=['accuracy'])\n",
    "\n",
    "print(deep_model.summary())"
   ]
  },
  {
   "cell_type": "code",
   "execution_count": 32,
   "metadata": {},
   "outputs": [
    {
     "name": "stdout",
     "output_type": "stream",
     "text": [
      "train data dim: (60000, 28, 28)\n",
      "test data dim: (10000, 28, 28)\n",
      "test label dim: (10000,)\n",
      "max of training data: 255\n"
     ]
    }
   ],
   "source": [
    "# Loading the data\n",
    "\n",
    "(dx_train, dy_train), (dx_test, dy_test) = mnist.load_data()\n",
    "\n",
    "print('train data dim:', dx_train.shape)\n",
    "print('test data dim:', dx_test.shape)\n",
    "print('test label dim:', dy_test.shape)\n",
    "\n",
    "print('max of training data:', np.max(dx_train))"
   ]
  },
  {
   "cell_type": "code",
   "execution_count": 35,
   "metadata": {},
   "outputs": [
    {
     "name": "stdout",
     "output_type": "stream",
     "text": [
      "(28, 28, 1)\n",
      "(28, 28, 1)\n",
      "(10,)\n",
      "(10,)\n"
     ]
    }
   ],
   "source": [
    "# Reshaping the data\n",
    "\n",
    "img_rows, img_cols = 28, 28\n",
    "dx_train = dx_train.reshape(dx_train.shape[0], img_rows, img_cols, 1)\n",
    "dx_test = dx_test.reshape(dx_test.shape[0], img_rows, img_cols, 1)\n",
    "input_shape = (img_rows, img_cols, 1)\n",
    "\n",
    "# Number of classes is 10 (arabic numerals 0 through 9)\n",
    "dy_train = utils.to_categorical(dy_train, 10)\n",
    "dy_test = utils.to_categorical(dy_test, 10)\n",
    "\n",
    "print(dx_train[0].shape)\n",
    "print(dx_train[1].shape)\n",
    "print(dy_train[0].shape)\n",
    "print(dy_test[0].shape)"
   ]
  },
  {
   "cell_type": "code",
   "execution_count": 36,
   "metadata": {},
   "outputs": [
    {
     "name": "stdout",
     "output_type": "stream",
     "text": [
      "Train on 60000 samples, validate on 10000 samples\n",
      "Epoch 1/10\n",
      "60000/60000 [==============================] - 75s 1ms/sample - loss: 3.7925 - accuracy: 0.5829 - val_loss: 1.2913 - val_accuracy: 0.7871\n",
      "Epoch 2/10\n",
      "60000/60000 [==============================] - 74s 1ms/sample - loss: 1.0417 - accuracy: 0.8221 - val_loss: 0.7961 - val_accuracy: 0.8541\n",
      "Epoch 3/10\n",
      "60000/60000 [==============================] - 74s 1ms/sample - loss: 0.7181 - accuracy: 0.8702 - val_loss: 0.6175 - val_accuracy: 0.8870\n",
      "Epoch 4/10\n",
      "60000/60000 [==============================] - 75s 1ms/sample - loss: 0.5734 - accuracy: 0.8927 - val_loss: 0.5208 - val_accuracy: 0.9016\n",
      "Epoch 5/10\n",
      "60000/60000 [==============================] - 75s 1ms/sample - loss: 0.4860 - accuracy: 0.9049 - val_loss: 0.4587 - val_accuracy: 0.9133\n",
      "Epoch 6/10\n",
      "60000/60000 [==============================] - 76s 1ms/sample - loss: 0.4238 - accuracy: 0.9151 - val_loss: 0.4129 - val_accuracy: 0.9202\n",
      "Epoch 7/10\n",
      "60000/60000 [==============================] - 76s 1ms/sample - loss: 0.3772 - accuracy: 0.9226 - val_loss: 0.3771 - val_accuracy: 0.9247\n",
      "Epoch 8/10\n",
      "60000/60000 [==============================] - 75s 1ms/sample - loss: 0.3414 - accuracy: 0.9285 - val_loss: 0.3535 - val_accuracy: 0.9307\n",
      "Epoch 9/10\n",
      "60000/60000 [==============================] - 79s 1ms/sample - loss: 0.3117 - accuracy: 0.9332 - val_loss: 0.3260 - val_accuracy: 0.9336\n",
      "Epoch 10/10\n",
      "60000/60000 [==============================] - 78s 1ms/sample - loss: 0.2870 - accuracy: 0.9373 - val_loss: 0.3104 - val_accuracy: 0.9363\n"
     ]
    }
   ],
   "source": [
    "# Training the model\n",
    "d_history = deep_model.fit(x=dx_train, y=dy_train,\n",
    "                   batch_size = 32,\n",
    "                   epochs = 10,\n",
    "                   verbose = 1,\n",
    "                   validation_data=(dx_test, dy_test))"
   ]
  },
  {
   "cell_type": "code",
   "execution_count": null,
   "metadata": {},
   "outputs": [],
   "source": []
  }
 ],
 "metadata": {
  "kernelspec": {
   "display_name": "Python 3",
   "language": "python",
   "name": "python3"
  },
  "language_info": {
   "codemirror_mode": {
    "name": "ipython",
    "version": 3
   },
   "file_extension": ".py",
   "mimetype": "text/x-python",
   "name": "python",
   "nbconvert_exporter": "python",
   "pygments_lexer": "ipython3",
   "version": "3.7.4"
  }
 },
 "nbformat": 4,
 "nbformat_minor": 2
}
