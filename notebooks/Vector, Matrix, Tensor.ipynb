{
 "cells": [
  {
   "cell_type": "code",
   "execution_count": 2,
   "metadata": {},
   "outputs": [
    {
     "name": "stdout",
     "output_type": "stream",
     "text": [
      "[5 2 1]\n",
      "(3,)\n"
     ]
    }
   ],
   "source": [
    "import numpy as np\n",
    "\n",
    "v = np.array([5,2,1])\n",
    "\n",
    "print(v)\n",
    "print(v.shape)"
   ]
  },
  {
   "cell_type": "code",
   "execution_count": 3,
   "metadata": {},
   "outputs": [
    {
     "data": {
      "text/plain": [
       "2"
      ]
     },
     "execution_count": 3,
     "metadata": {},
     "output_type": "execute_result"
    }
   ],
   "source": [
    "v[1]"
   ]
  },
  {
   "cell_type": "code",
   "execution_count": 16,
   "metadata": {},
   "outputs": [
    {
     "name": "stdout",
     "output_type": "stream",
     "text": [
      "[[5 2 1]\n",
      " [2 0 1]]\n",
      "(2, 3)\n",
      "6\n"
     ]
    }
   ],
   "source": [
    "m = np.array([[5,2,1],[2,0,1]])\n",
    "\n",
    "print(m)\n",
    "print(m.shape)\n",
    "print(m.size)"
   ]
  },
  {
   "cell_type": "code",
   "execution_count": 17,
   "metadata": {},
   "outputs": [
    {
     "data": {
      "text/plain": [
       "array([5, 2, 1])"
      ]
     },
     "execution_count": 17,
     "metadata": {},
     "output_type": "execute_result"
    }
   ],
   "source": [
    "m[0]"
   ]
  },
  {
   "cell_type": "code",
   "execution_count": 18,
   "metadata": {},
   "outputs": [
    {
     "data": {
      "text/plain": [
       "2"
      ]
     },
     "execution_count": 18,
     "metadata": {},
     "output_type": "execute_result"
    }
   ],
   "source": [
    "m[0][1]"
   ]
  },
  {
   "cell_type": "code",
   "execution_count": 19,
   "metadata": {},
   "outputs": [
    {
     "name": "stdout",
     "output_type": "stream",
     "text": [
      "[[5 2]\n",
      " [2 0]\n",
      " [1 1]]\n",
      "(3, 2)\n"
     ]
    }
   ],
   "source": [
    "m_t = np.transpose(m)\n",
    "print(m_t)\n",
    "print(m_t.shape)"
   ]
  },
  {
   "cell_type": "code",
   "execution_count": 20,
   "metadata": {},
   "outputs": [
    {
     "name": "stdout",
     "output_type": "stream",
     "text": [
      "[[5 2]\n",
      " [1 2]\n",
      " [0 1]]\n",
      "---\n",
      "[[[5 2]]\n",
      "\n",
      " [[1 2]]\n",
      "\n",
      " [[0 1]]]\n",
      "---\n",
      "[[[5 2]]\n",
      "\n",
      " [[1 2]]\n",
      "\n",
      " [[0 1]]]\n"
     ]
    }
   ],
   "source": [
    "print(m.reshape(3,2))\n",
    "print('---')\n",
    "print(m.reshape(3,1,2))\n",
    "print('---')\n",
    "print(m.reshape(-1,1,2))"
   ]
  },
  {
   "cell_type": "code",
   "execution_count": 24,
   "metadata": {},
   "outputs": [
    {
     "name": "stdout",
     "output_type": "stream",
     "text": [
      "[[[ 1.  2.  3.]\n",
      "  [ 4.  5.  6.]]\n",
      "\n",
      " [[ 7.  8.  9.]\n",
      "  [11. 12. 13.]]]\n",
      "---\n",
      "(2, 2, 3)\n",
      "---\n",
      "[[1. 2. 3.]\n",
      " [4. 5. 6.]]\n",
      "---\n",
      "[[ 7.  8.  9.]\n",
      " [11. 12. 13.]]\n",
      "---\n",
      "12\n",
      "---\n",
      "[[[ 1.  2.]\n",
      "  [ 3.  4.]]\n",
      "\n",
      " [[ 5.  6.]\n",
      "  [ 7.  8.]]\n",
      "\n",
      " [[ 9. 11.]\n",
      "  [12. 13.]]]\n",
      "---\n",
      "[[[ 1.]\n",
      "  [ 2.]\n",
      "  [ 3.]\n",
      "  [ 4.]]\n",
      "\n",
      " [[ 5.]\n",
      "  [ 6.]\n",
      "  [ 7.]\n",
      "  [ 8.]]\n",
      "\n",
      " [[ 9.]\n",
      "  [11.]\n",
      "  [12.]\n",
      "  [13.]]]\n"
     ]
    }
   ],
   "source": [
    "t = np.array([[[1., 2.,3.], [4.,5.,6.]], [[7.,8.,9.], [11.,12.,13.]]])\n",
    "\n",
    "print(t)\n",
    "print('---')\n",
    "# The first element of shape shows how many, and the second and third elements shows the dimension\n",
    "print(t.shape)\n",
    "print('---')\n",
    "print(t[0])\n",
    "print('---')\n",
    "print(t[1])\n",
    "print('---')\n",
    "# print(t[2])\n",
    "# print('---')\n",
    "print(t.size)\n",
    "print('---')\n",
    "print(t.reshape(3,2,-1))\n",
    "print('---')\n",
    "print(t.reshape(3,-1,1))"
   ]
  },
  {
   "cell_type": "code",
   "execution_count": 25,
   "metadata": {},
   "outputs": [
    {
     "name": "stdout",
     "output_type": "stream",
     "text": [
      "[[[[0. 0. 0. 0. 0.]\n",
      "   [0. 0. 0. 0. 0.]\n",
      "   [0. 0. 0. 0. 0.]\n",
      "   [0. 0. 0. 0. 0.]\n",
      "   [0. 0. 0. 0. 0.]]\n",
      "\n",
      "  [[0. 0. 0. 0. 0.]\n",
      "   [0. 0. 0. 0. 0.]\n",
      "   [0. 0. 0. 0. 0.]\n",
      "   [0. 0. 0. 0. 0.]\n",
      "   [0. 0. 0. 0. 0.]]\n",
      "\n",
      "  [[0. 0. 0. 0. 0.]\n",
      "   [0. 0. 0. 0. 0.]\n",
      "   [0. 0. 0. 0. 0.]\n",
      "   [0. 0. 0. 0. 0.]\n",
      "   [0. 0. 0. 0. 0.]]]\n",
      "\n",
      "\n",
      " [[[0. 0. 0. 0. 0.]\n",
      "   [0. 0. 0. 0. 0.]\n",
      "   [0. 0. 0. 0. 0.]\n",
      "   [0. 0. 0. 0. 0.]\n",
      "   [0. 0. 0. 0. 0.]]\n",
      "\n",
      "  [[0. 0. 0. 0. 0.]\n",
      "   [0. 0. 0. 0. 0.]\n",
      "   [0. 0. 0. 0. 0.]\n",
      "   [0. 0. 0. 0. 0.]\n",
      "   [0. 0. 0. 0. 0.]]\n",
      "\n",
      "  [[0. 0. 0. 0. 0.]\n",
      "   [0. 0. 0. 0. 0.]\n",
      "   [0. 0. 0. 0. 0.]\n",
      "   [0. 0. 0. 0. 0.]\n",
      "   [0. 0. 0. 0. 0.]]]]\n"
     ]
    }
   ],
   "source": [
    "v = np.zeros((2, 3, 5, 5))\n",
    "\n",
    "print(v)"
   ]
  },
  {
   "cell_type": "code",
   "execution_count": 26,
   "metadata": {},
   "outputs": [
    {
     "name": "stdout",
     "output_type": "stream",
     "text": [
      "[[29 11]\n",
      " [11  5]]\n"
     ]
    }
   ],
   "source": [
    "a = np.array([[4, 2, 3],[2, 0, 1]])\n",
    "\n",
    "b = np.transpose(a)\n",
    "\n",
    "c = np.dot(a,b)\n",
    "\n",
    "print(c)"
   ]
  },
  {
   "cell_type": "code",
   "execution_count": 27,
   "metadata": {},
   "outputs": [
    {
     "name": "stdout",
     "output_type": "stream",
     "text": [
      "[[-0.08333333  0.58333333]\n",
      " [ 0.41666667 -0.91666667]\n",
      " [ 0.16666667 -0.16666667]]\n",
      "[[ 1.00000000e+00  7.77156117e-16]\n",
      " [-2.77555756e-17  1.00000000e+00]]\n",
      "[[ 0.83333333 -0.16666667  0.33333333]\n",
      " [-0.16666667  0.83333333  0.33333333]\n",
      " [ 0.33333333  0.33333333  0.33333333]]\n"
     ]
    }
   ],
   "source": [
    "pinv_a = np.linalg.pinv(a)\n",
    "\n",
    "print(pinv_a)\n",
    "print(np.dot(a, pinv_a))\n",
    "print(np.dot(pinv_a, a))"
   ]
  },
  {
   "cell_type": "code",
   "execution_count": 28,
   "metadata": {},
   "outputs": [
    {
     "name": "stdout",
     "output_type": "stream",
     "text": [
      "[[ 5 12]\n",
      " [21 32]]\n",
      "[[ 5 12]\n",
      " [21 32]]\n",
      "[[ 5 12]\n",
      " [21 32]]\n",
      "[[ 5 12]\n",
      " [21 32]]\n"
     ]
    }
   ],
   "source": [
    "a = np.array([[1, 2],[3, 4]])\n",
    "b = np.array([[5, 6],[7, 8]])\n",
    "print(np.multiply(a,b))\n",
    "print(np.multiply(b,a))\n",
    "print(a*b)\n",
    "print(b*a)"
   ]
  },
  {
   "cell_type": "code",
   "execution_count": 32,
   "metadata": {},
   "outputs": [
    {
     "name": "stdout",
     "output_type": "stream",
     "text": [
      "[[['X' 'X' 'X']\n",
      "  ['.' '.' 'X']\n",
      "  ['X' 'X' 'X']\n",
      "  ['.' '.' 'X']\n",
      "  ['X' 'X' 'X']]\n",
      "\n",
      " [['X' 'X' '.']\n",
      "  ['X' '.' 'X']\n",
      "  ['X' '.' 'X']\n",
      "  ['X' '.' 'X']\n",
      "  ['X' 'X' '.']]]\n"
     ]
    }
   ],
   "source": [
    "td = np.array([[['X','X','X'],['.','.','X'],['X','X','X'],['.','.','X'],['X','X','X']],[['X','X','.'],['X','.','X'],['X','.','X'],['X','.','X'],['X','X','.']]])\n",
    "print(td)"
   ]
  },
  {
   "cell_type": "code",
   "execution_count": 33,
   "metadata": {},
   "outputs": [
    {
     "name": "stdout",
     "output_type": "stream",
     "text": [
      "[[[[[0. 0. 0. 0. 0.]\n",
      "    [0. 0. 0. 0. 0.]\n",
      "    [0. 0. 0. 0. 0.]\n",
      "    [0. 0. 0. 0. 0.]\n",
      "    [0. 0. 0. 0. 0.]]\n",
      "\n",
      "   [[0. 0. 0. 0. 0.]\n",
      "    [0. 0. 0. 0. 0.]\n",
      "    [0. 0. 0. 0. 0.]\n",
      "    [0. 0. 0. 0. 0.]\n",
      "    [0. 0. 0. 0. 0.]]\n",
      "\n",
      "   [[0. 0. 0. 0. 0.]\n",
      "    [0. 0. 0. 0. 0.]\n",
      "    [0. 0. 0. 0. 0.]\n",
      "    [0. 0. 0. 0. 0.]\n",
      "    [0. 0. 0. 0. 0.]]]\n",
      "\n",
      "\n",
      "  [[[0. 0. 0. 0. 0.]\n",
      "    [0. 0. 0. 0. 0.]\n",
      "    [0. 0. 0. 0. 0.]\n",
      "    [0. 0. 0. 0. 0.]\n",
      "    [0. 0. 0. 0. 0.]]\n",
      "\n",
      "   [[0. 0. 0. 0. 0.]\n",
      "    [0. 0. 0. 0. 0.]\n",
      "    [0. 0. 0. 0. 0.]\n",
      "    [0. 0. 0. 0. 0.]\n",
      "    [0. 0. 0. 0. 0.]]\n",
      "\n",
      "   [[0. 0. 0. 0. 0.]\n",
      "    [0. 0. 0. 0. 0.]\n",
      "    [0. 0. 0. 0. 0.]\n",
      "    [0. 0. 0. 0. 0.]\n",
      "    [0. 0. 0. 0. 0.]]]]\n",
      "\n",
      "\n",
      "\n",
      " [[[[0. 0. 0. 0. 0.]\n",
      "    [0. 0. 0. 0. 0.]\n",
      "    [0. 0. 0. 0. 0.]\n",
      "    [0. 0. 0. 0. 0.]\n",
      "    [0. 0. 0. 0. 0.]]\n",
      "\n",
      "   [[0. 0. 0. 0. 0.]\n",
      "    [0. 0. 0. 0. 0.]\n",
      "    [0. 0. 0. 0. 0.]\n",
      "    [0. 0. 0. 0. 0.]\n",
      "    [0. 0. 0. 0. 0.]]\n",
      "\n",
      "   [[0. 0. 0. 0. 0.]\n",
      "    [0. 0. 0. 0. 0.]\n",
      "    [0. 0. 0. 0. 0.]\n",
      "    [0. 0. 0. 0. 0.]\n",
      "    [0. 0. 0. 0. 0.]]]\n",
      "\n",
      "\n",
      "  [[[0. 0. 0. 0. 0.]\n",
      "    [0. 0. 0. 0. 0.]\n",
      "    [0. 0. 0. 0. 0.]\n",
      "    [0. 0. 0. 0. 0.]\n",
      "    [0. 0. 0. 0. 0.]]\n",
      "\n",
      "   [[0. 0. 0. 0. 0.]\n",
      "    [0. 0. 0. 0. 0.]\n",
      "    [0. 0. 0. 0. 0.]\n",
      "    [0. 0. 0. 0. 0.]\n",
      "    [0. 0. 0. 0. 0.]]\n",
      "\n",
      "   [[0. 0. 0. 0. 0.]\n",
      "    [0. 0. 0. 0. 0.]\n",
      "    [0. 0. 0. 0. 0.]\n",
      "    [0. 0. 0. 0. 0.]\n",
      "    [0. 0. 0. 0. 0.]]]]]\n",
      "(3, 5, 5)\n",
      "(3, 5, 5)\n",
      "(3, 5, 5)\n",
      "(3, 5, 5)\n"
     ]
    }
   ],
   "source": [
    "v = np.zeros((2, 2, 3, 5, 5))\n",
    "print(v)\n",
    "print(v[0][0].shape)\n",
    "print(v[0][1].shape)\n",
    "print(v[1][0].shape)\n",
    "print(v[1][1].shape)"
   ]
  },
  {
   "cell_type": "code",
   "execution_count": null,
   "metadata": {},
   "outputs": [],
   "source": []
  }
 ],
 "metadata": {
  "kernelspec": {
   "display_name": "Python 3",
   "language": "python",
   "name": "python3"
  },
  "language_info": {
   "codemirror_mode": {
    "name": "ipython",
    "version": 3
   },
   "file_extension": ".py",
   "mimetype": "text/x-python",
   "name": "python",
   "nbconvert_exporter": "python",
   "pygments_lexer": "ipython3",
   "version": "3.7.3"
  }
 },
 "nbformat": 4,
 "nbformat_minor": 2
}
